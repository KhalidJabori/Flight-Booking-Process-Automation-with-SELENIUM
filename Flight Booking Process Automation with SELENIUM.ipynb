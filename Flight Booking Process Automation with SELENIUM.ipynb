{
 "cells": [
  {
   "cell_type": "code",
   "execution_count": 93,
   "id": "f308a75a",
   "metadata": {},
   "outputs": [],
   "source": [
    "import pandas as pd\n",
    "from selenium import webdriver\n",
    "from selenium.webdriver.common.keys import Keys\n",
    "from selenium.webdriver.support import expected_conditions as EC\n",
    "from selenium.webdriver.common.by import By\n",
    "from selenium.webdriver.chrome.service import Service\n",
    "from selenium.webdriver.support.wait import WebDriverWait\n",
    "from webdriver_manager.chrome import ChromeDriverManager\n",
    "import time\n",
    "import os"
   ]
  },
  {
   "cell_type": "code",
   "execution_count": 94,
   "id": "b974fab1",
   "metadata": {
    "collapsed": true
   },
   "outputs": [
    {
     "name": "stdout",
     "output_type": "stream",
     "text": [
      "Requirement already satisfied: undetected_chromedriver in c:\\users\\khalid\\anaconda3\\anacond\\lib\\site-packages (3.5.5)\n",
      "Requirement already satisfied: websockets in c:\\users\\khalid\\anaconda3\\anacond\\lib\\site-packages (from undetected_chromedriver) (13.1)\n",
      "Requirement already satisfied: selenium>=4.9.0 in c:\\users\\khalid\\anaconda3\\anacond\\lib\\site-packages (from undetected_chromedriver) (4.27.1)\n",
      "Requirement already satisfied: requests in c:\\users\\khalid\\anaconda3\\anacond\\lib\\site-packages (from undetected_chromedriver) (2.25.1)\n",
      "Requirement already satisfied: urllib3[socks]<3,>=1.26 in c:\\users\\khalid\\anaconda3\\anacond\\lib\\site-packages (from selenium>=4.9.0->undetected_chromedriver) (1.26.4)\n",
      "Requirement already satisfied: websocket-client~=1.8 in c:\\users\\khalid\\anaconda3\\anacond\\lib\\site-packages (from selenium>=4.9.0->undetected_chromedriver) (1.8.0)\n",
      "Requirement already satisfied: certifi>=2021.10.8 in c:\\users\\khalid\\anaconda3\\anacond\\lib\\site-packages (from selenium>=4.9.0->undetected_chromedriver) (2025.1.31)\n",
      "Requirement already satisfied: typing_extensions~=4.9 in c:\\users\\khalid\\anaconda3\\anacond\\lib\\site-packages (from selenium>=4.9.0->undetected_chromedriver) (4.13.1)\n",
      "Requirement already satisfied: trio-websocket~=0.9 in c:\\users\\khalid\\anaconda3\\anacond\\lib\\site-packages (from selenium>=4.9.0->undetected_chromedriver) (0.12.2)\n",
      "Requirement already satisfied: trio~=0.17 in c:\\users\\khalid\\anaconda3\\anacond\\lib\\site-packages (from selenium>=4.9.0->undetected_chromedriver) (0.27.0)\n",
      "Requirement already satisfied: cffi>=1.14 in c:\\users\\khalid\\anaconda3\\anacond\\lib\\site-packages (from trio~=0.17->selenium>=4.9.0->undetected_chromedriver) (1.14.5)\n",
      "Requirement already satisfied: sortedcontainers in c:\\users\\khalid\\anaconda3\\anacond\\lib\\site-packages (from trio~=0.17->selenium>=4.9.0->undetected_chromedriver) (2.3.0)\n",
      "Requirement already satisfied: exceptiongroup in c:\\users\\khalid\\anaconda3\\anacond\\lib\\site-packages (from trio~=0.17->selenium>=4.9.0->undetected_chromedriver) (1.2.2)\n",
      "Requirement already satisfied: attrs>=23.2.0 in c:\\users\\khalid\\anaconda3\\anacond\\lib\\site-packages (from trio~=0.17->selenium>=4.9.0->undetected_chromedriver) (25.3.0)\n",
      "Requirement already satisfied: outcome in c:\\users\\khalid\\anaconda3\\anacond\\lib\\site-packages (from trio~=0.17->selenium>=4.9.0->undetected_chromedriver) (1.3.0.post0)\n",
      "Requirement already satisfied: idna in c:\\users\\khalid\\anaconda3\\anacond\\lib\\site-packages (from trio~=0.17->selenium>=4.9.0->undetected_chromedriver) (2.10)\n",
      "Requirement already satisfied: sniffio>=1.3.0 in c:\\users\\khalid\\anaconda3\\anacond\\lib\\site-packages (from trio~=0.17->selenium>=4.9.0->undetected_chromedriver) (1.3.1)\n",
      "Requirement already satisfied: pycparser in c:\\users\\khalid\\anaconda3\\anacond\\lib\\site-packages (from cffi>=1.14->trio~=0.17->selenium>=4.9.0->undetected_chromedriver) (2.20)\n",
      "Requirement already satisfied: wsproto>=0.14 in c:\\users\\khalid\\anaconda3\\anacond\\lib\\site-packages (from trio-websocket~=0.9->selenium>=4.9.0->undetected_chromedriver) (1.2.0)\n",
      "Requirement already satisfied: PySocks!=1.5.7,<2.0,>=1.5.6 in c:\\users\\khalid\\anaconda3\\anacond\\lib\\site-packages (from urllib3[socks]<3,>=1.26->selenium>=4.9.0->undetected_chromedriver) (1.7.1)\n",
      "Requirement already satisfied: h11<1,>=0.9.0 in c:\\users\\khalid\\anaconda3\\anacond\\lib\\site-packages (from wsproto>=0.14->trio-websocket~=0.9->selenium>=4.9.0->undetected_chromedriver) (0.14.0)\n",
      "Requirement already satisfied: chardet<5,>=3.0.2 in c:\\users\\khalid\\anaconda3\\anacond\\lib\\site-packages (from requests->undetected_chromedriver) (4.0.0)\n"
     ]
    }
   ],
   "source": [
    "!pip install undetected_chromedriver"
   ]
  },
  {
   "cell_type": "code",
   "execution_count": 95,
   "id": "d59928a3",
   "metadata": {},
   "outputs": [],
   "source": [
    "from undetected_chromedriver import Chrome"
   ]
  },
  {
   "cell_type": "code",
   "execution_count": 170,
   "id": "74d72ec5",
   "metadata": {},
   "outputs": [],
   "source": [
    "chrome = Chrome()"
   ]
  },
  {
   "cell_type": "code",
   "execution_count": 171,
   "id": "00436a32",
   "metadata": {},
   "outputs": [],
   "source": [
    "chrome.get('https://www.cleartrip.com/')"
   ]
  },
  {
   "cell_type": "code",
   "execution_count": 173,
   "id": "bdb166c7",
   "metadata": {},
   "outputs": [],
   "source": [
    "x = chrome.find_element('xpath','//*[@class=\"pb-1 px-1 flex flex-middle nmx-1\"]')\n",
    "x.click()"
   ]
  },
  {
   "cell_type": "code",
   "execution_count": 174,
   "id": "421d5c96",
   "metadata": {},
   "outputs": [],
   "source": [
    "flight = chrome.find_element('xpath','(//a[@class=\"lobcard\"])[1]')\n",
    "flight.click()"
   ]
  },
  {
   "cell_type": "code",
   "execution_count": 175,
   "id": "ad7d2365",
   "metadata": {},
   "outputs": [],
   "source": [
    "x = chrome.find_element('xpath','//*[@class=\"pb-1 px-1 flex flex-middle nmx-1\"]')\n",
    "x.click()"
   ]
  },
  {
   "cell_type": "code",
   "execution_count": 176,
   "id": "a5bfd64b",
   "metadata": {},
   "outputs": [],
   "source": [
    "choose_trip=chrome.find_element('xpath','//*[@class=\"ml-1 flex\"]')\n",
    "choose_trip.click()"
   ]
  },
  {
   "cell_type": "code",
   "execution_count": 177,
   "id": "74e9a702",
   "metadata": {},
   "outputs": [],
   "source": [
    "# Round_trip = chrome.find_element('xpath','//*[@id=\"__next\"]/div/main/div/div/div/div[1]/div[1]/div/div[1]/div[2]/div/div[1]/div[1]/div/div/div[2]/li[2]/div/p')\n",
    "# Round_trip.click()"
   ]
  },
  {
   "cell_type": "code",
   "execution_count": 181,
   "id": "5276b81c",
   "metadata": {},
   "outputs": [],
   "source": [
    "depart = chrome.find_element('xpath','//*[@class=\"w-100p fs-16 fw-500 c-neutral-900\"]')\n",
    "depart.click()\n",
    "depart.send_keys('Berlin')\n",
    "time.sleep(5)\n",
    "select_city = chrome.find_element('xpath','//*[@class=\"m-1\"]')\n",
    "select_city.click()"
   ]
  },
  {
   "cell_type": "code",
   "execution_count": 182,
   "id": "43ea770a",
   "metadata": {},
   "outputs": [],
   "source": [
    "Arrival = chrome.find_element('xpath','//*[@class=\"w-100p fs-16 fw-500 c-neutral-900\"]')\n",
    "Arrival.click()\n",
    "Arrival.send_keys('Barcel')\n",
    "time.sleep(5)\n",
    "select_city = chrome.find_element('xpath','//*[@class=\"mr-1 o-hidden\"]')\n",
    "select_city.click()"
   ]
  },
  {
   "cell_type": "code",
   "execution_count": 180,
   "id": "a51278ef",
   "metadata": {},
   "outputs": [],
   "source": [
    "calendar_depart = chrome.find_element('xpath','//*[@class=\"sc-aXZVg dSvAMK mr-2 mt-1\"]')\n",
    "calendar_depart.click()\n",
    "depart_date = chrome.find_element('xpath','(((//*[@class=\"DayPicker-Body\"])[2])/div[1])/div[4]')\n",
    "depart_date.click()\n",
    "# arrival_date = chrome.find_element('xpath','(//*[@class=\"DayPicker-Body\"]/div[3]/div[6])[2]')\n",
    "# arrival_date.click()"
   ]
  },
  {
   "cell_type": "code",
   "execution_count": null,
   "id": "74bbfa16",
   "metadata": {},
   "outputs": [],
   "source": [
    "adults= driver.find_element('xpath','(//*[@class=\"fw-500 fs-16 ml-2\"])')\n",
    "adults.click()\n",
    "number_adults = driver.find_element('xpath','(//*[@class=\"bn c-pointer\"])[1]')\n",
    "number_adults.click()\n"
   ]
  },
  {
   "cell_type": "code",
   "execution_count": 43,
   "id": "27d28906",
   "metadata": {},
   "outputs": [],
   "source": [
    "number_Children = chrome.find_element('xpath','(//*[@class=\"bn c-pointer\"])[3]')\n",
    "for i in range(4):\n",
    "    number_Children.click()\n"
   ]
  },
  {
   "cell_type": "code",
   "execution_count": 44,
   "id": "402f28ac",
   "metadata": {},
   "outputs": [],
   "source": [
    "choose_class = chrome.find_element('xpath','(//*[@class=\"sc-aXZVg ibgoAF\"])[3]')\n",
    "choose_class.click()\n"
   ]
  },
  {
   "cell_type": "code",
   "execution_count": 185,
   "id": "134e0647",
   "metadata": {},
   "outputs": [],
   "source": [
    "search = chrome.find_element('xpath','//button[@class=\"sc-dhKdcB cZtxil flex-1\"]')\n",
    "search.click()"
   ]
  },
  {
   "cell_type": "code",
   "execution_count": 186,
   "id": "bc3f89d8",
   "metadata": {},
   "outputs": [],
   "source": [
    "select_traget = chrome.find_element('xpath','//p[text()=\"Amsterdam,Schiphol(AMS)\"]')\n",
    "select_traget.click()"
   ]
  },
  {
   "cell_type": "code",
   "execution_count": 188,
   "id": "239da549",
   "metadata": {},
   "outputs": [],
   "source": [
    "select_time = chrome.find_element('xpath','(//span[text()=\"8 AM-12 PM\"])[1]')\n",
    "select_time.click()"
   ]
  },
  {
   "cell_type": "code",
   "execution_count": 193,
   "id": "2762174b",
   "metadata": {},
   "outputs": [
    {
     "data": {
      "text/plain": [
       "7"
      ]
     },
     "execution_count": 193,
     "metadata": {},
     "output_type": "execute_result"
    }
   ],
   "source": [
    "# affiche_data\n",
    "ch =[]\n",
    "ch =chrome.find_elements('xpath','//span[@class=\"pt-1\"]')\n",
    "len(ch)\n"
   ]
  },
  {
   "cell_type": "code",
   "execution_count": 204,
   "id": "85467936",
   "metadata": {
    "scrolled": true
   },
   "outputs": [],
   "source": [
    "#Show All Data\n",
    "\n",
    "for i in range(len(ch)):\n",
    "    affiche_data = chrome.find_element('xpath','//span[@class=\"pt-1\"]')\n",
    "    affiche_data.click()\n",
    "    time.sleep(3)"
   ]
  },
  {
   "cell_type": "code",
   "execution_count": 205,
   "id": "0f09744c",
   "metadata": {},
   "outputs": [],
   "source": [
    "# Scrapping Data\n",
    "name = chrome.find_elements('xpath','//div[@class=\"flex flex-column flex-middle\"]/span')\n",
    "name_38 = chrome.find_elements('xpath','//div[@class=\"flex flex-column flex-middle\"]/p')\n",
    "name.insert(-1,name_38[0])\n",
    "price = chrome.find_elements('xpath','//p[@class=\"m-0 fs-6 fw-600 c-neutral-900 ws-nowrap h-7\"]')"
   ]
  },
  {
   "cell_type": "code",
   "execution_count": 206,
   "id": "312c37a2",
   "metadata": {},
   "outputs": [],
   "source": [
    "duration= chrome.find_elements('xpath','//p[@class=\"m-0 fs-3 lh-28 fw-500 c-neutral-900\"]')\n",
    "stop= chrome.find_elements('xpath','//p[@class=\"m-0 fs-3 lh-28 fw-500 c-neutral-900 lh-copy\"]')\n"
   ]
  },
  {
   "cell_type": "code",
   "execution_count": 207,
   "id": "1e2bb3aa",
   "metadata": {},
   "outputs": [],
   "source": [
    "#dict flight\n",
    "df_flight = pd.DataFrame(columns=['Airplain Name','Price','Duration','Stop'])"
   ]
  },
  {
   "cell_type": "code",
   "execution_count": 211,
   "id": "3776560e",
   "metadata": {},
   "outputs": [],
   "source": [
    "for i in range(len(name)):\n",
    "    \n",
    "    df_flight = df_flight.append({'Airplain Name':name[i].text,'Price':price[i].text,'Duration':duration[i].text, 'Stop':stop[i].text}, ignore_index=True)  \n"
   ]
  },
  {
   "cell_type": "code",
   "execution_count": 212,
   "id": "2f366f18",
   "metadata": {},
   "outputs": [
    {
     "data": {
      "text/html": [
       "<div>\n",
       "<style scoped>\n",
       "    .dataframe tbody tr th:only-of-type {\n",
       "        vertical-align: middle;\n",
       "    }\n",
       "\n",
       "    .dataframe tbody tr th {\n",
       "        vertical-align: top;\n",
       "    }\n",
       "\n",
       "    .dataframe thead th {\n",
       "        text-align: right;\n",
       "    }\n",
       "</style>\n",
       "<table border=\"1\" class=\"dataframe\">\n",
       "  <thead>\n",
       "    <tr style=\"text-align: right;\">\n",
       "      <th></th>\n",
       "      <th>Airplain Name</th>\n",
       "      <th>Price</th>\n",
       "      <th>Duration</th>\n",
       "      <th>Stop</th>\n",
       "    </tr>\n",
       "  </thead>\n",
       "  <tbody>\n",
       "    <tr>\n",
       "      <th>0</th>\n",
       "      <td>Vueling Airlines</td>\n",
       "      <td>₹12,470</td>\n",
       "      <td>2h 20m</td>\n",
       "      <td>(non-stop)</td>\n",
       "    </tr>\n",
       "    <tr>\n",
       "      <th>1</th>\n",
       "      <td>Air Europa</td>\n",
       "      <td>₹19,241</td>\n",
       "      <td>21h 55m</td>\n",
       "      <td>(1 stop)</td>\n",
       "    </tr>\n",
       "    <tr>\n",
       "      <th>2</th>\n",
       "      <td>Air Europa</td>\n",
       "      <td>₹20,849</td>\n",
       "      <td>5h 35m</td>\n",
       "      <td>(1 stop)</td>\n",
       "    </tr>\n",
       "    <tr>\n",
       "      <th>3</th>\n",
       "      <td>KLM Royal Dutch</td>\n",
       "      <td>₹21,540</td>\n",
       "      <td>2h 10m</td>\n",
       "      <td>(non-stop)</td>\n",
       "    </tr>\n",
       "    <tr>\n",
       "      <th>4</th>\n",
       "      <td>Vueling Airlines</td>\n",
       "      <td>₹24,036</td>\n",
       "      <td>2h 20m</td>\n",
       "      <td>(non-stop)</td>\n",
       "    </tr>\n",
       "    <tr>\n",
       "      <th>5</th>\n",
       "      <td>KLM Royal Dutch</td>\n",
       "      <td>₹24,365</td>\n",
       "      <td>2h 10m</td>\n",
       "      <td>(non-stop)</td>\n",
       "    </tr>\n",
       "    <tr>\n",
       "      <th>6</th>\n",
       "      <td>Iberia</td>\n",
       "      <td>₹24,569</td>\n",
       "      <td>2h 20m</td>\n",
       "      <td>(non-stop)</td>\n",
       "    </tr>\n",
       "    <tr>\n",
       "      <th>7</th>\n",
       "      <td>Air France</td>\n",
       "      <td>₹30,490</td>\n",
       "      <td>4h 5m</td>\n",
       "      <td>(1 stop)</td>\n",
       "    </tr>\n",
       "    <tr>\n",
       "      <th>8</th>\n",
       "      <td>Air France</td>\n",
       "      <td>₹30,490</td>\n",
       "      <td>5h 5m</td>\n",
       "      <td>(1 stop)</td>\n",
       "    </tr>\n",
       "    <tr>\n",
       "      <th>9</th>\n",
       "      <td>Air France</td>\n",
       "      <td>₹30,521</td>\n",
       "      <td>4h 15m</td>\n",
       "      <td>(1 stop)</td>\n",
       "    </tr>\n",
       "    <tr>\n",
       "      <th>10</th>\n",
       "      <td>Air France</td>\n",
       "      <td>₹30,521</td>\n",
       "      <td>8h 45m</td>\n",
       "      <td>(1 stop)</td>\n",
       "    </tr>\n",
       "    <tr>\n",
       "      <th>11</th>\n",
       "      <td>Air France</td>\n",
       "      <td>₹30,521</td>\n",
       "      <td>9h 45m</td>\n",
       "      <td>(1 stop)</td>\n",
       "    </tr>\n",
       "    <tr>\n",
       "      <th>12</th>\n",
       "      <td>Air France</td>\n",
       "      <td>₹30,521</td>\n",
       "      <td>11h 5m</td>\n",
       "      <td>(1 stop)</td>\n",
       "    </tr>\n",
       "    <tr>\n",
       "      <th>13</th>\n",
       "      <td>Air France</td>\n",
       "      <td>₹30,521</td>\n",
       "      <td>12h 5m</td>\n",
       "      <td>(1 stop)</td>\n",
       "    </tr>\n",
       "    <tr>\n",
       "      <th>14</th>\n",
       "      <td>Aer Lingus</td>\n",
       "      <td>₹31,160</td>\n",
       "      <td>12h 50m</td>\n",
       "      <td>(1 stop)</td>\n",
       "    </tr>\n",
       "    <tr>\n",
       "      <th>15</th>\n",
       "      <td>Austrian Airlines</td>\n",
       "      <td>₹31,662</td>\n",
       "      <td>9h 55m</td>\n",
       "      <td>(1 stop)</td>\n",
       "    </tr>\n",
       "    <tr>\n",
       "      <th>16</th>\n",
       "      <td>Austrian Airlines</td>\n",
       "      <td>₹31,662</td>\n",
       "      <td>23h 15m</td>\n",
       "      <td>(1 stop)</td>\n",
       "    </tr>\n",
       "    <tr>\n",
       "      <th>17</th>\n",
       "      <td>Air France</td>\n",
       "      <td>₹32,340</td>\n",
       "      <td>6h 10m</td>\n",
       "      <td>(1 stop)</td>\n",
       "    </tr>\n",
       "    <tr>\n",
       "      <th>18</th>\n",
       "      <td>Air France</td>\n",
       "      <td>₹32,371</td>\n",
       "      <td>5h 35m</td>\n",
       "      <td>(1 stop)</td>\n",
       "    </tr>\n",
       "    <tr>\n",
       "      <th>19</th>\n",
       "      <td>Air France</td>\n",
       "      <td>₹32,371</td>\n",
       "      <td>6h 35m</td>\n",
       "      <td>(1 stop)</td>\n",
       "    </tr>\n",
       "    <tr>\n",
       "      <th>20</th>\n",
       "      <td>Air France</td>\n",
       "      <td>₹32,371</td>\n",
       "      <td>10h 50m</td>\n",
       "      <td>(1 stop)</td>\n",
       "    </tr>\n",
       "    <tr>\n",
       "      <th>21</th>\n",
       "      <td>Air France</td>\n",
       "      <td>₹32,371</td>\n",
       "      <td>13h 10m</td>\n",
       "      <td>(1 stop)</td>\n",
       "    </tr>\n",
       "    <tr>\n",
       "      <th>22</th>\n",
       "      <td>Air France</td>\n",
       "      <td>₹34,996</td>\n",
       "      <td>5h 20m</td>\n",
       "      <td>(1 stop)</td>\n",
       "    </tr>\n",
       "    <tr>\n",
       "      <th>23</th>\n",
       "      <td>Air France</td>\n",
       "      <td>₹34,996</td>\n",
       "      <td>7h 40m</td>\n",
       "      <td>(1 stop)</td>\n",
       "    </tr>\n",
       "    <tr>\n",
       "      <th>24</th>\n",
       "      <td>SAS</td>\n",
       "      <td>₹35,192</td>\n",
       "      <td>7h 45m</td>\n",
       "      <td>(1 stop)</td>\n",
       "    </tr>\n",
       "    <tr>\n",
       "      <th>25</th>\n",
       "      <td>SAS</td>\n",
       "      <td>₹36,895</td>\n",
       "      <td>24h 40m</td>\n",
       "      <td>(1 stop)</td>\n",
       "    </tr>\n",
       "    <tr>\n",
       "      <th>26</th>\n",
       "      <td>ITA Airways</td>\n",
       "      <td>₹38,283</td>\n",
       "      <td>11h 20m</td>\n",
       "      <td>(1 stop)</td>\n",
       "    </tr>\n",
       "    <tr>\n",
       "      <th>27</th>\n",
       "      <td>ITA Airways</td>\n",
       "      <td>₹38,283</td>\n",
       "      <td>28h 0m</td>\n",
       "      <td>(1 stop)</td>\n",
       "    </tr>\n",
       "    <tr>\n",
       "      <th>28</th>\n",
       "      <td>ITA Airways</td>\n",
       "      <td>₹41,883</td>\n",
       "      <td>11h 20m</td>\n",
       "      <td>(1 stop)</td>\n",
       "    </tr>\n",
       "    <tr>\n",
       "      <th>29</th>\n",
       "      <td>ITA Airways</td>\n",
       "      <td>₹43,343</td>\n",
       "      <td>22h 55m</td>\n",
       "      <td>(1 stop)</td>\n",
       "    </tr>\n",
       "    <tr>\n",
       "      <th>30</th>\n",
       "      <td>Aer Lingus</td>\n",
       "      <td>₹44,196</td>\n",
       "      <td>24h 45m</td>\n",
       "      <td>(1 stop)</td>\n",
       "    </tr>\n",
       "    <tr>\n",
       "      <th>31</th>\n",
       "      <td>British Airways</td>\n",
       "      <td>₹45,759</td>\n",
       "      <td>4h 35m</td>\n",
       "      <td>(1 stop)</td>\n",
       "    </tr>\n",
       "    <tr>\n",
       "      <th>32</th>\n",
       "      <td>SAS</td>\n",
       "      <td>₹51,242</td>\n",
       "      <td>26h 10m</td>\n",
       "      <td>(1 stop)</td>\n",
       "    </tr>\n",
       "    <tr>\n",
       "      <th>33</th>\n",
       "      <td>SAS</td>\n",
       "      <td>₹51,538</td>\n",
       "      <td>24h 45m</td>\n",
       "      <td>(1 stop)</td>\n",
       "    </tr>\n",
       "    <tr>\n",
       "      <th>34</th>\n",
       "      <td>SAS</td>\n",
       "      <td>₹51,538</td>\n",
       "      <td>26h 55m</td>\n",
       "      <td>(1 stop)</td>\n",
       "    </tr>\n",
       "    <tr>\n",
       "      <th>35</th>\n",
       "      <td>LOT Polish Air</td>\n",
       "      <td>₹57,647</td>\n",
       "      <td>26h 0m</td>\n",
       "      <td>(1 stop)</td>\n",
       "    </tr>\n",
       "    <tr>\n",
       "      <th>36</th>\n",
       "      <td>Finnair</td>\n",
       "      <td>₹67,281</td>\n",
       "      <td>8h 10m</td>\n",
       "      <td>(1 stop)</td>\n",
       "    </tr>\n",
       "    <tr>\n",
       "      <th>37</th>\n",
       "      <td>Multiple airlines</td>\n",
       "      <td>₹1,13,409</td>\n",
       "      <td>5h 25m</td>\n",
       "      <td>(1 stop)</td>\n",
       "    </tr>\n",
       "    <tr>\n",
       "      <th>38</th>\n",
       "      <td>British Airways</td>\n",
       "      <td>₹1,16,033</td>\n",
       "      <td>5h 35m</td>\n",
       "      <td>(1 stop)</td>\n",
       "    </tr>\n",
       "  </tbody>\n",
       "</table>\n",
       "</div>"
      ],
      "text/plain": [
       "        Airplain Name      Price Duration         Stop\n",
       "0    Vueling Airlines    ₹12,470   2h 20m   (non-stop)\n",
       "1          Air Europa    ₹19,241  21h 55m     (1 stop)\n",
       "2          Air Europa    ₹20,849   5h 35m     (1 stop)\n",
       "3     KLM Royal Dutch    ₹21,540   2h 10m   (non-stop)\n",
       "4    Vueling Airlines    ₹24,036   2h 20m   (non-stop)\n",
       "5     KLM Royal Dutch    ₹24,365   2h 10m   (non-stop)\n",
       "6              Iberia    ₹24,569   2h 20m   (non-stop)\n",
       "7          Air France    ₹30,490    4h 5m     (1 stop)\n",
       "8          Air France    ₹30,490    5h 5m     (1 stop)\n",
       "9          Air France    ₹30,521   4h 15m     (1 stop)\n",
       "10         Air France    ₹30,521   8h 45m     (1 stop)\n",
       "11         Air France    ₹30,521   9h 45m     (1 stop)\n",
       "12         Air France    ₹30,521   11h 5m     (1 stop)\n",
       "13         Air France    ₹30,521   12h 5m     (1 stop)\n",
       "14         Aer Lingus    ₹31,160  12h 50m     (1 stop)\n",
       "15  Austrian Airlines    ₹31,662   9h 55m     (1 stop)\n",
       "16  Austrian Airlines    ₹31,662  23h 15m     (1 stop)\n",
       "17         Air France    ₹32,340   6h 10m     (1 stop)\n",
       "18         Air France    ₹32,371   5h 35m     (1 stop)\n",
       "19         Air France    ₹32,371   6h 35m     (1 stop)\n",
       "20         Air France    ₹32,371  10h 50m     (1 stop)\n",
       "21         Air France    ₹32,371  13h 10m     (1 stop)\n",
       "22         Air France    ₹34,996   5h 20m     (1 stop)\n",
       "23         Air France    ₹34,996   7h 40m     (1 stop)\n",
       "24                SAS    ₹35,192   7h 45m     (1 stop)\n",
       "25                SAS    ₹36,895  24h 40m     (1 stop)\n",
       "26        ITA Airways    ₹38,283  11h 20m     (1 stop)\n",
       "27        ITA Airways    ₹38,283   28h 0m     (1 stop)\n",
       "28        ITA Airways    ₹41,883  11h 20m     (1 stop)\n",
       "29        ITA Airways    ₹43,343  22h 55m     (1 stop)\n",
       "30         Aer Lingus    ₹44,196  24h 45m     (1 stop)\n",
       "31    British Airways    ₹45,759   4h 35m     (1 stop)\n",
       "32                SAS    ₹51,242  26h 10m     (1 stop)\n",
       "33                SAS    ₹51,538  24h 45m     (1 stop)\n",
       "34                SAS    ₹51,538  26h 55m     (1 stop)\n",
       "35     LOT Polish Air    ₹57,647   26h 0m     (1 stop)\n",
       "36            Finnair    ₹67,281   8h 10m     (1 stop)\n",
       "37  Multiple airlines  ₹1,13,409   5h 25m     (1 stop)\n",
       "38    British Airways  ₹1,16,033   5h 35m     (1 stop)"
      ]
     },
     "execution_count": 212,
     "metadata": {},
     "output_type": "execute_result"
    }
   ],
   "source": [
    "df_flight"
   ]
  },
  {
   "cell_type": "code",
   "execution_count": 213,
   "id": "83adde35",
   "metadata": {},
   "outputs": [],
   "source": [
    "df_flight.to_excel('Booking_Flights.xlsx',index=False)"
   ]
  },
  {
   "cell_type": "code",
   "execution_count": null,
   "id": "dbfc4508",
   "metadata": {},
   "outputs": [],
   "source": []
  }
 ],
 "metadata": {
  "kernelspec": {
   "display_name": "Python 3",
   "language": "python",
   "name": "python3"
  },
  "language_info": {
   "codemirror_mode": {
    "name": "ipython",
    "version": 3
   },
   "file_extension": ".py",
   "mimetype": "text/x-python",
   "name": "python",
   "nbconvert_exporter": "python",
   "pygments_lexer": "ipython3",
   "version": "3.8.8"
  },
  "varInspector": {
   "cols": {
    "lenName": 16,
    "lenType": 16,
    "lenVar": 40
   },
   "kernels_config": {
    "python": {
     "delete_cmd_postfix": "",
     "delete_cmd_prefix": "del ",
     "library": "var_list.py",
     "varRefreshCmd": "print(var_dic_list())"
    },
    "r": {
     "delete_cmd_postfix": ") ",
     "delete_cmd_prefix": "rm(",
     "library": "var_list.r",
     "varRefreshCmd": "cat(var_dic_list()) "
    }
   },
   "types_to_exclude": [
    "module",
    "function",
    "builtin_function_or_method",
    "instance",
    "_Feature"
   ],
   "window_display": false
  }
 },
 "nbformat": 4,
 "nbformat_minor": 5
}
